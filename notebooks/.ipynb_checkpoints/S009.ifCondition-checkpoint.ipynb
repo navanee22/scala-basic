{
 "cells": [
  {
   "cell_type": "code",
   "execution_count": 2,
   "id": "197c19d7-4042-4aa9-ba4c-797ff688ee13",
   "metadata": {},
   "outputs": [
    {
     "name": "stdout",
     "output_type": "stream",
     "text": [
      "Even number\n"
     ]
    }
   ],
   "source": [
    "#condition Statement which can evaluate to true or false\n",
    "\n",
    "n=10\n",
    "\n",
    "if n%2==0:\n",
    "    #true part\n",
    "    print(\"Even number\")\n",
    "else:\n",
    "    #false part\n",
    "    print(\"odd number\")"
   ]
  },
  {
   "cell_type": "code",
   "execution_count": 3,
   "id": "77c18e79-e52d-4b18-b2d1-061392913d77",
   "metadata": {},
   "outputs": [
    {
     "name": "stdout",
     "output_type": "stream",
     "text": [
      "c is greater\n"
     ]
    }
   ],
   "source": [
    "#else if\n",
    "a=10\n",
    "b=20\n",
    "c=30\n",
    "\n",
    "if a>b and a>c:\n",
    "    print(\"a is greater\")\n",
    "elif b>c:\n",
    "    print(\"b is greater\")\n",
    "else:\n",
    "    print(\"c is greater\")"
   ]
  },
  {
   "cell_type": "code",
   "execution_count": null,
   "id": "cd7d95f2-6477-4995-a952-ff530a4b9b6a",
   "metadata": {},
   "outputs": [],
   "source": []
  }
 ],
 "metadata": {
  "kernelspec": {
   "display_name": "Python 3 (ipykernel)",
   "language": "python",
   "name": "python3"
  },
  "language_info": {
   "codemirror_mode": {
    "name": "ipython",
    "version": 3
   },
   "file_extension": ".py",
   "mimetype": "text/x-python",
   "name": "python",
   "nbconvert_exporter": "python",
   "pygments_lexer": "ipython3",
   "version": "3.7.10"
  }
 },
 "nbformat": 4,
 "nbformat_minor": 5
}
