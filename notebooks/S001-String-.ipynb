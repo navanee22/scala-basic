{
 "cells": [
  {
   "cell_type": "code",
   "execution_count": 5,
   "id": "aabe01a3-f22f-4f77-969a-a4361b45a1f5",
   "metadata": {},
   "outputs": [
    {
     "name": "stdout",
     "output_type": "stream",
     "text": [
      "\n",
      "learning python and apache spark\n",
      "     kafta\n",
      " aws\n",
      " \n"
     ]
    }
   ],
   "source": [
    "#comments\n",
    "name=\"python\"\n",
    "framework='spark'\n",
    "#multiline strings easily\n",
    "course=\"\"\"\n",
    "learning python and apache spark\n",
    "     kafta\n",
    " aws\n",
    " \"\"\"\n",
    "print(course)\n"
   ]
  },
  {
   "cell_type": "code",
   "execution_count": 4,
   "id": "7d9d4492-08cb-4636-8570-973098b821c5",
   "metadata": {},
   "outputs": [
    {
     "name": "stdout",
     "output_type": "stream",
     "text": [
      "python sparkkafta   aws   \n"
     ]
    }
   ],
   "source": [
    "#multiline srting using double quote\n",
    "#\\no space after\\for line \n",
    "s=\"python spark\\\n",
    "kafta\\\n",
    "   aws\\\n",
    "   \"\n",
    "\n",
    "print(s)\n",
    "\n"
   ]
  },
  {
   "cell_type": "code",
   "execution_count": 1,
   "id": "800dd379-c127-43ad-af76-e10d32007101",
   "metadata": {},
   "outputs": [
    {
     "name": "stdout",
     "output_type": "stream",
     "text": [
      "Hello\n"
     ]
    }
   ],
   "source": [
    "#indentation SPACE(SPACE BAR,TAB)-Space is good than tab\n",
    "#indentation is considered as block\n",
    "print(\"Hello\")"
   ]
  },
  {
   "cell_type": "code",
   "execution_count": 2,
   "id": "cf2c52ea-8cbd-411b-aafc-c37bf88799a8",
   "metadata": {},
   "outputs": [
    {
     "name": "stdout",
     "output_type": "stream",
     "text": [
      "  python  \n"
     ]
    }
   ],
   "source": [
    "#String many functions\n",
    "s= \"  python  \"\n",
    "print(s)"
   ]
  },
  {
   "cell_type": "code",
   "execution_count": 3,
   "id": "4ae41666-e3d3-4b3a-a959-1a02ada5139d",
   "metadata": {},
   "outputs": [
    {
     "name": "stdout",
     "output_type": "stream",
     "text": [
      "PYTHON\n",
      "python\n"
     ]
    }
   ],
   "source": [
    "#Srting is immutabe,cannot change\n",
    "#convert to upper and lower case\n",
    "s=\" python \"\n",
    "print(s.upper())\n",
    "print(s.lower())"
   ]
  },
  {
   "cell_type": "code",
   "execution_count": 7,
   "id": "515ac31d-e3aa-47b4-804f-47a53dcd2402",
   "metadata": {},
   "outputs": [
    {
     "name": "stdout",
     "output_type": "stream",
     "text": [
      "python\n"
     ]
    }
   ],
   "source": [
    "# to remove leading and trailing white space\n",
    "t = s.strip()\n",
    "print(t)"
   ]
  },
  {
   "cell_type": "code",
   "execution_count": null,
   "id": "5bd69682-dd77-4da4-a614-b1a8381e3fb3",
   "metadata": {},
   "outputs": [],
   "source": []
  }
 ],
 "metadata": {
  "kernelspec": {
   "display_name": "Python 3 (ipykernel)",
   "language": "python",
   "name": "python3"
  },
  "language_info": {
   "codemirror_mode": {
    "name": "ipython",
    "version": 3
   },
   "file_extension": ".py",
   "mimetype": "text/x-python",
   "name": "python",
   "nbconvert_exporter": "python",
   "pygments_lexer": "ipython3",
   "version": "3.7.10"
  }
 },
 "nbformat": 4,
 "nbformat_minor": 5
}
