{
 "cells": [
  {
   "cell_type": "code",
   "execution_count": 1,
   "id": "434e0a19-bc68-43f7-90b2-147a2618ad22",
   "metadata": {},
   "outputs": [
    {
     "name": "stdout",
     "output_type": "stream",
     "text": [
      "3\n"
     ]
    }
   ],
   "source": [
    "#List is data structure\n",
    "#hold collection of items\n",
    "#[]to represent list\n",
    "stocks=['infy','apple','tsla']\n",
    "print (len(stocks))"
   ]
  },
  {
   "cell_type": "code",
   "execution_count": 2,
   "id": "8ca78225-f75b-4803-b212-f67de09a8ed2",
   "metadata": {},
   "outputs": [],
   "source": [
    "#append(mutable)\n",
    "stocks.append(\"honda\")\n"
   ]
  },
  {
   "cell_type": "code",
   "execution_count": 3,
   "id": "427eb311-0de8-4ea1-b659-56d73fac56fd",
   "metadata": {},
   "outputs": [
    {
     "name": "stdout",
     "output_type": "stream",
     "text": [
      "['infy', 'apple', 'tsla', 'honda']\n"
     ]
    }
   ],
   "source": [
    "print(stocks)"
   ]
  },
  {
   "cell_type": "code",
   "execution_count": 4,
   "id": "527c93cb-5e73-4110-90cf-ecf9c4853c11",
   "metadata": {},
   "outputs": [],
   "source": [
    "#insert element between, element index starting from 0\n",
    "stocks.insert(1,'cts')"
   ]
  },
  {
   "cell_type": "code",
   "execution_count": 5,
   "id": "257f9968-58fe-4807-aee6-8cc11e5ba27e",
   "metadata": {},
   "outputs": [
    {
     "name": "stdout",
     "output_type": "stream",
     "text": [
      "['infy', 'cts', 'apple', 'tsla', 'honda']\n"
     ]
    }
   ],
   "source": [
    "print (stocks)"
   ]
  },
  {
   "cell_type": "code",
   "execution_count": 5,
   "id": "d2cab819-9ca0-4829-b162-8a7d794d00e0",
   "metadata": {},
   "outputs": [
    {
     "name": "stdout",
     "output_type": "stream",
     "text": [
      "['infy', 'tsla']\n"
     ]
    }
   ],
   "source": [
    "#remove elements\n",
    "stocks=['infy','apple','tsla']\n",
    "stocks.remove('apple')\n",
    "print(stocks)\n"
   ]
  },
  {
   "cell_type": "code",
   "execution_count": 7,
   "id": "c75b243f-e6c5-442e-b026-f27cebbc02c0",
   "metadata": {},
   "outputs": [
    {
     "name": "stdout",
     "output_type": "stream",
     "text": [
      "['infy', 'cts', 'tsla', 'honda']\n"
     ]
    }
   ],
   "source": [
    "print(stocks)"
   ]
  },
  {
   "cell_type": "code",
   "execution_count": 14,
   "id": "1a80fc89-758e-419b-a14b-86c3a88b33c4",
   "metadata": {},
   "outputs": [
    {
     "name": "stdout",
     "output_type": "stream",
     "text": [
      "infy\n",
      "honda\n",
      "tsla\n",
      "['infy', 'cts', 'tsla']\n",
      "['cts', 'tsla']\n",
      "['infy', 'cts']\n"
     ]
    }
   ],
   "source": [
    "#access list elements(index position stating from 0 to -1)\n",
    "stocks=['infy', 'cts', 'tsla', 'honda']\n",
    "print(stocks[0])\n",
    "print(stocks[3])\n",
    "print(stocks[-2])\n",
    "print(stocks[0:3])print(stocks[1:-1])\n",
    "print(stocks[:-2])\n"
   ]
  },
  {
   "cell_type": "code",
   "execution_count": null,
   "id": "5a600cd4-7f2b-4620-8d93-6d462bce7c80",
   "metadata": {},
   "outputs": [],
   "source": []
  }
 ],
 "metadata": {
  "kernelspec": {
   "display_name": "Python 3 (ipykernel)",
   "language": "python",
   "name": "python3"
  },
  "language_info": {
   "codemirror_mode": {
    "name": "ipython",
    "version": 3
   },
   "file_extension": ".py",
   "mimetype": "text/x-python",
   "name": "python",
   "nbconvert_exporter": "python",
   "pygments_lexer": "ipython3",
   "version": "3.7.10"
  }
 },
 "nbformat": 4,
 "nbformat_minor": 5
}
