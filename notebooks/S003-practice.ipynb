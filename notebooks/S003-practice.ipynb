{
 "cells": [
  {
   "cell_type": "code",
   "execution_count": 2,
   "id": "e1614b0a-2cbc-4b38-ab76-c01f59a6ecb7",
   "metadata": {},
   "outputs": [],
   "source": [
    "#Dict - key and value\n",
    "#Key Should be unique and value can be anything\n",
    "countries={\n",
    "    \"IN\":\"India\",\n",
    "    \"USA\":\"Unioted states of America\",\n",
    "    \"CA\":\"Canada\"\n",
    "}"
   ]
  },
  {
   "cell_type": "code",
   "execution_count": 3,
   "id": "a60ce06c-8897-4946-8753-07c644d18d71",
   "metadata": {},
   "outputs": [
    {
     "name": "stdout",
     "output_type": "stream",
     "text": [
      "Unioted states of America\n"
     ]
    }
   ],
   "source": [
    "print(countries[\"USA\"])"
   ]
  },
  {
   "cell_type": "code",
   "execution_count": 4,
   "id": "6be62586-98c5-45cd-bfec-e863c05adbff",
   "metadata": {},
   "outputs": [
    {
     "name": "stdout",
     "output_type": "stream",
     "text": [
      "3\n"
     ]
    }
   ],
   "source": [
    "#length\n",
    "print(len(countries))"
   ]
  },
  {
   "cell_type": "code",
   "execution_count": 5,
   "id": "9ad6452e-98af-40da-8c0f-dceee4c37424",
   "metadata": {},
   "outputs": [
    {
     "name": "stdout",
     "output_type": "stream",
     "text": [
      "<class 'dict'>\n"
     ]
    }
   ],
   "source": [
    "#type\n",
    "print(type(countries))"
   ]
  },
  {
   "cell_type": "code",
   "execution_count": 6,
   "id": "b1a6f3b0-a4f4-485e-856e-f4500c501427",
   "metadata": {},
   "outputs": [
    {
     "name": "stdout",
     "output_type": "stream",
     "text": [
      "{'IN': 'India', 'USA': 'Unioted states of America', 'CA': 'Canada'}\n"
     ]
    }
   ],
   "source": [
    "#get\n",
    "print(countries)"
   ]
  },
  {
   "cell_type": "code",
   "execution_count": 7,
   "id": "fd9692a2-669a-4d57-b1a0-17f3afcf7ad3",
   "metadata": {},
   "outputs": [
    {
     "name": "stdout",
     "output_type": "stream",
     "text": [
      "{'IN': 'India', 'CA': 'Canada'}\n"
     ]
    }
   ],
   "source": [
    "#to remove items\n",
    "countries.pop(\"USA\")\n",
    "print(countries)"
   ]
  },
  {
   "cell_type": "code",
   "execution_count": 8,
   "id": "177bfdcf-4af5-4931-b65a-e4ac6474909c",
   "metadata": {},
   "outputs": [
    {
     "name": "stdout",
     "output_type": "stream",
     "text": [
      "dict_values(['India', 'Canada'])\n"
     ]
    }
   ],
   "source": [
    "#get all value\n",
    "print(countries.values())"
   ]
  },
  {
   "cell_type": "code",
   "execution_count": 9,
   "id": "4ca69069-5c6a-49fe-abd2-8844b6ed5a5f",
   "metadata": {},
   "outputs": [
    {
     "name": "stdout",
     "output_type": "stream",
     "text": [
      "{'IN': 'India'}\n"
     ]
    }
   ],
   "source": [
    "#remove items using del\n",
    "del countries['CA']\n",
    "print(countries)"
   ]
  },
  {
   "cell_type": "code",
   "execution_count": 10,
   "id": "b4a6399f-a790-4b57-84d0-38d950ed68d5",
   "metadata": {},
   "outputs": [
    {
     "name": "stdout",
     "output_type": "stream",
     "text": [
      "{}\n"
     ]
    }
   ],
   "source": [
    "#to remove all using clear\n",
    "countries.clear()\n",
    "print(countries)\n"
   ]
  },
  {
   "cell_type": "markdown",
   "id": "7ac6a746-78de-41cb-ba08-7aa8b90c9eb9",
   "metadata": {},
   "source": [
    "#"
   ]
  }
 ],
 "metadata": {
  "kernelspec": {
   "display_name": "Python 3 (ipykernel)",
   "language": "python",
   "name": "python3"
  },
  "language_info": {
   "codemirror_mode": {
    "name": "ipython",
    "version": 3
   },
   "file_extension": ".py",
   "mimetype": "text/x-python",
   "name": "python",
   "nbconvert_exporter": "python",
   "pygments_lexer": "ipython3",
   "version": "3.7.10"
  }
 },
 "nbformat": 4,
 "nbformat_minor": 5
}
