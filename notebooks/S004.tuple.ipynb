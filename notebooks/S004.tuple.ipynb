{
 "cells": [
  {
   "cell_type": "code",
   "execution_count": 1,
   "id": "0ee5c03a-3ce8-4126-a481-f038ceed4167",
   "metadata": {},
   "outputs": [],
   "source": [
    "#Tuple- pair of elements\n",
    "#like record\n",
    "#immutable\n",
    "#used lot in Spark,bigdata\n",
    "stock1=('MSFT',56,54,57)\n",
    "product=('iphone',12,1200)\n",
    "emp=('Joe','Male',35,6000)"
   ]
  },
  {
   "cell_type": "code",
   "execution_count": 2,
   "id": "59c81e42-f931-4aed-8a4a-7214383a6dd2",
   "metadata": {},
   "outputs": [
    {
     "name": "stdout",
     "output_type": "stream",
     "text": [
      "4\n",
      "3\n"
     ]
    }
   ],
   "source": [
    "print(len(stock1))\n",
    "print(len(product))"
   ]
  },
  {
   "cell_type": "code",
   "execution_count": 3,
   "id": "9c905be1-e0e4-421f-b046-c919432fd38b",
   "metadata": {},
   "outputs": [
    {
     "name": "stdout",
     "output_type": "stream",
     "text": [
      "57\n"
     ]
    }
   ],
   "source": [
    "#to access tuple element use[]with index statinf from 0,smilar to list\n",
    "print(stock1[-1])"
   ]
  },
  {
   "cell_type": "code",
   "execution_count": 4,
   "id": "9d4d6138-388d-47e6-abba-403b97860b36",
   "metadata": {},
   "outputs": [
    {
     "name": "stdout",
     "output_type": "stream",
     "text": [
      "56\n"
     ]
    }
   ],
   "source": [
    "print(stock1[1])"
   ]
  },
  {
   "cell_type": "code",
   "execution_count": 5,
   "id": "ba6d6a56-821b-47b7-ae5a-6b288cc4c3dc",
   "metadata": {},
   "outputs": [
    {
     "name": "stdout",
     "output_type": "stream",
     "text": [
      "('Joe', 'Male')\n"
     ]
    }
   ],
   "source": [
    "#range lower bound:upperbound\n",
    "print(emp[0:2])"
   ]
  },
  {
   "cell_type": "code",
   "execution_count": 6,
   "id": "bb5851c3-962e-49fa-be68-544bcdf05864",
   "metadata": {},
   "outputs": [
    {
     "name": "stdout",
     "output_type": "stream",
     "text": [
      "(12, 1200)\n"
     ]
    }
   ],
   "source": [
    "print(product[1:])"
   ]
  },
  {
   "cell_type": "code",
   "execution_count": 7,
   "id": "0a5b66b8-c2bd-42a4-84bc-c91c77626349",
   "metadata": {},
   "outputs": [
    {
     "name": "stdout",
     "output_type": "stream",
     "text": [
      "MSFT 56 54 57\n"
     ]
    }
   ],
   "source": [
    "#unpacking tupple\n",
    "#symbol,close price,daylow,dayhigh\n",
    "#declaration=expression\n",
    "\n",
    "stock1=('MSFT',56,54,57)\n",
    "#assign the stocl1 elements into pytho variable\n",
    "(symbol, close, low, high)=stock1\n",
    "print(symbol, close, low, high)"
   ]
  },
  {
   "cell_type": "code",
   "execution_count": 8,
   "id": "81eb111d-25f5-4024-a4cf-eb13b541dbd4",
   "metadata": {},
   "outputs": [
    {
     "name": "stdout",
     "output_type": "stream",
     "text": [
      "MSFT 56\n"
     ]
    }
   ],
   "source": [
    "stock1=('MSFT',56,54,57)\n",
    "#Asterik*\n",
    "(symbol,close,*lowhigh)=stock1\n",
    "print(symbol,close)"
   ]
  },
  {
   "cell_type": "code",
   "execution_count": 9,
   "id": "38953387-f037-4e2e-8233-cfa0294b3f8f",
   "metadata": {},
   "outputs": [
    {
     "name": "stdout",
     "output_type": "stream",
     "text": [
      "[54, 57]\n"
     ]
    }
   ],
   "source": [
    "print(lowhigh)"
   ]
  },
  {
   "cell_type": "code",
   "execution_count": 10,
   "id": "a6a95b56-870d-42df-a541-d2175f4596ff",
   "metadata": {},
   "outputs": [
    {
     "name": "stdout",
     "output_type": "stream",
     "text": [
      "54\n"
     ]
    }
   ],
   "source": [
    "#unpacking\n",
    "stock1=('MSFT',56,54,57)\n",
    "(symbol,*r,high)=stock1\n",
    "print(low)"
   ]
  },
  {
   "cell_type": "code",
   "execution_count": 11,
   "id": "33d04028-6d8e-4303-8190-156b393028c1",
   "metadata": {},
   "outputs": [
    {
     "name": "stdout",
     "output_type": "stream",
     "text": [
      "[56, 54]\n"
     ]
    }
   ],
   "source": [
    "print(r)"
   ]
  },
  {
   "cell_type": "code",
   "execution_count": null,
   "id": "683ba82a-2e67-4415-a1bc-7dfad98b82c2",
   "metadata": {},
   "outputs": [],
   "source": [
    "print(r[0])\n"
   ]
  },
  {
   "cell_type": "code",
   "execution_count": 6,
   "id": "4783d306-a507-47e3-ad7f-88246a05f3b6",
   "metadata": {},
   "outputs": [
    {
     "name": "stdout",
     "output_type": "stream",
     "text": [
      "MSFT\n"
     ]
    }
   ],
   "source": [
    "#stock1=('MSFT',56,54,57)\n",
    "print(stock1[0])"
   ]
  },
  {
   "cell_type": "markdown",
   "id": "fe4c90fe-7900-4776-9e11-6e0ca57242f8",
   "metadata": {},
   "source": []
  }
 ],
 "metadata": {
  "kernelspec": {
   "display_name": "Python 3 (ipykernel)",
   "language": "python",
   "name": "python3"
  },
  "language_info": {
   "codemirror_mode": {
    "name": "ipython",
    "version": 3
   },
   "file_extension": ".py",
   "mimetype": "text/x-python",
   "name": "python",
   "nbconvert_exporter": "python",
   "pygments_lexer": "ipython3",
   "version": "3.7.10"
  }
 },
 "nbformat": 4,
 "nbformat_minor": 5
}
