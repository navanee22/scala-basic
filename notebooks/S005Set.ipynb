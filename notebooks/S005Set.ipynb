{
 "cells": [
  {
   "cell_type": "code",
   "execution_count": null,
   "id": "dfa732d1-4b81-432f-8a84-8ae91de8b914",
   "metadata": {},
   "outputs": [],
   "source": [
    "#set is a collection \n",
    "#unordered-does not maintain insertion order\n",
    "#cant access by index numberlike [0]\n",
    "#{} to represent the set\n",
    "#immutable\n",
    "#duplicates not allowed\n",
    "stocks={\"MSFT\",\"TSLA\",\"APPL\",\"FB\",\"TSLA\",\"FB\"}\n",
    "print(stocks)"
   ]
  },
  {
   "cell_type": "code",
   "execution_count": 3,
   "id": "b456e047-f2ad-4334-a1d4-c1f788047ea8",
   "metadata": {},
   "outputs": [
    {
     "name": "stdout",
     "output_type": "stream",
     "text": [
      "4\n"
     ]
    }
   ],
   "source": [
    "print(len(stocks))"
   ]
  },
  {
   "cell_type": "code",
   "execution_count": null,
   "id": "b5f0570f-fe96-484e-875a-bdcee896380b",
   "metadata": {},
   "outputs": [],
   "source": [
    "stocks={\"MSFT\",\"TSLA\",\"APPL\",\"FB\",\"TSLA\",\"FB\"}\n",
    "print(stocks[0]) #cannot acces by index,this will result in error"
   ]
  },
  {
   "cell_type": "code",
   "execution_count": 4,
   "id": "d9f079b4-a4b1-463b-975c-d186ae7ca998",
   "metadata": {},
   "outputs": [],
   "source": [
    "#set membership\n",
    "#to check if the elements present or not\n",
    "hasFB='FB' in stocks\n",
    "hastsl='TSLA' in stocks"
   ]
  },
  {
   "cell_type": "code",
   "execution_count": null,
   "id": "9eb0dcc2-6622-4a58-b0e7-051a93a198ba",
   "metadata": {},
   "outputs": [],
   "source": [
    "#stocks={\"MSFT\",\"TSLA\",\"APPL\",\"FB\",\"TSLA\",\"FB\"}\n",
    "print(hasFB)\n",
    "print(hastsl)"
   ]
  },
  {
   "cell_type": "markdown",
   "id": "060072be-0ebb-49ed-af4e-63416017e93d",
   "metadata": {},
   "source": [
    "print(\"EMR\" in stocks)"
   ]
  },
  {
   "cell_type": "code",
   "execution_count": 5,
   "id": "fb41cf90-99fa-4ab7-a630-f1fba4414e89",
   "metadata": {},
   "outputs": [
    {
     "ename": "SyntaxError",
     "evalue": "EOL while scanning string literal (Temp/ipykernel_7672/1168124276.py, line 3)",
     "output_type": "error",
     "traceback": [
      "\u001b[1;36m  File \u001b[1;32m\"C:\\Users\\ADMINI~1\\AppData\\Local\\Temp/ipykernel_7672/1168124276.py\"\u001b[1;36m, line \u001b[1;32m3\u001b[0m\n\u001b[1;33m    hasTSLA = 'TSLA' in stocks'\u001b[0m\n\u001b[1;37m                               ^\u001b[0m\n\u001b[1;31mSyntaxError\u001b[0m\u001b[1;31m:\u001b[0m EOL while scanning string literal\n"
     ]
    }
   ],
   "source": [
    "#stocks={\"MSFT\",\"TSLA\",\"APPL\",\"FB\",\"TSLA\",\"FB\"}\n",
    "\n",
    "hasTSLA = 'TSLA' in stocks'\n",
    "print(hasTSLA)"
   ]
  },
  {
   "cell_type": "code",
   "execution_count": null,
   "id": "9d104261-1c26-4f8f-8712-34517d15e652",
   "metadata": {},
   "outputs": [],
   "source": []
  },
  {
   "cell_type": "code",
   "execution_count": null,
   "id": "ccf6292b-fbad-4617-9896-68df5e7593dc",
   "metadata": {},
   "outputs": [],
   "source": []
  }
 ],
 "metadata": {
  "kernelspec": {
   "display_name": "Python 3 (ipykernel)",
   "language": "python",
   "name": "python3"
  },
  "language_info": {
   "codemirror_mode": {
    "name": "ipython",
    "version": 3
   },
   "file_extension": ".py",
   "mimetype": "text/x-python",
   "name": "python",
   "nbconvert_exporter": "python",
   "pygments_lexer": "ipython3",
   "version": "3.7.10"
  }
 },
 "nbformat": 4,
 "nbformat_minor": 5
}
