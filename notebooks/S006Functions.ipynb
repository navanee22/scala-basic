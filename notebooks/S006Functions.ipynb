{
 "cells": [
  {
   "cell_type": "code",
   "execution_count": 1,
   "id": "a6e92584-8a80-4034-ad15-43a597ab7e29",
   "metadata": {},
   "outputs": [
    {
     "name": "stdout",
     "output_type": "stream",
     "text": [
      "good morning\n",
      "happy learning\n"
     ]
    }
   ],
   "source": [
    "#Functions-,few lines of reusable code\n",
    "#functions accept parameters,apply logic on parameters,return a result\n",
    "#def keyword to define a function,can have a name\n",
    "#define a function,that has 0 parameter,return no result\n",
    "#colon is mandatory, act as block statement\n",
    "\n",
    "def greeting():\n",
    "    print('good morning')\n",
    "    print('happy learning')\n",
    "    \n",
    "#function ended\n",
    "#no indentation\n",
    "greeting()\n",
    "    "
   ]
  },
  {
   "cell_type": "code",
   "execution_count": 2,
   "id": "c31ecdce-3d3a-48aa-8bbd-1448d89373bb",
   "metadata": {},
   "outputs": [
    {
     "name": "stdout",
     "output_type": "stream",
     "text": [
      "goog morning joe\n",
      "happy learning joe\n",
      "goog morning jack\n",
      "happy learning jack\n"
     ]
    }
   ],
   "source": [
    "#functions that take parameter,no return result\n",
    "\n",
    "def greet(name):\n",
    "    print('goog morning', name)\n",
    "    print('happy learning', name)\n",
    "    \n",
    "greet('joe')#joe is argument to parameter name\n",
    "greet('jack')"
   ]
  },
  {
   "cell_type": "code",
   "execution_count": 1,
   "id": "e062b3c8-a19b-4d4c-bdd7-c563b5225f75",
   "metadata": {},
   "outputs": [
    {
     "name": "stdout",
     "output_type": "stream",
     "text": [
      "30\n"
     ]
    }
   ],
   "source": [
    "#define a function that takes 2 parameters\n",
    "def add(a,b):\n",
    "    c=a+b\n",
    "    return c\n",
    "#d=add(10,20)\n",
    "print(add(10,20))"
   ]
  },
  {
   "cell_type": "code",
   "execution_count": 7,
   "id": "7c18771c-ffc1-426e-b3c9-6916b9daf406",
   "metadata": {},
   "outputs": [],
   "source": [
    "#vars argument"
   ]
  },
  {
   "cell_type": "code",
   "execution_count": 10,
   "id": "63ae4cf4-e49e-4e37-8b80-30f1b5b49de6",
   "metadata": {},
   "outputs": [
    {
     "name": "stdout",
     "output_type": "stream",
     "text": [
      "placing msft prive at 50 for quantity 10\n"
     ]
    }
   ],
   "source": [
    "#keyword argumaent\n",
    "#parameters passed left to right\n",
    "def placeOrder(symbol, qty, price):\n",
    "    print('placing', symbol, 'prive at', price,'for quantity', qty)\n",
    " #arguments passed left to right\n",
    "placeOrder('msft', 10, 50)\n",
    "    \n",
    "    "
   ]
  },
  {
   "cell_type": "code",
   "execution_count": null,
   "id": "6cc0aed7-24a7-45b5-83a3-e02060b47017",
   "metadata": {},
   "outputs": [],
   "source": []
  }
 ],
 "metadata": {
  "kernelspec": {
   "display_name": "Python 3 (ipykernel)",
   "language": "python",
   "name": "python3"
  },
  "language_info": {
   "codemirror_mode": {
    "name": "ipython",
    "version": 3
   },
   "file_extension": ".py",
   "mimetype": "text/x-python",
   "name": "python",
   "nbconvert_exporter": "python",
   "pygments_lexer": "ipython3",
   "version": "3.7.10"
  }
 },
 "nbformat": 4,
 "nbformat_minor": 5
}
