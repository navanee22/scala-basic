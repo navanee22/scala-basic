{
 "cells": [
  {
   "cell_type": "code",
   "execution_count": 1,
   "id": "da8a2471-ef0f-4f80-b110-57fdb3f062d1",
   "metadata": {},
   "outputs": [
    {
     "name": "stdout",
     "output_type": "stream",
     "text": [
      "25\n"
     ]
    }
   ],
   "source": [
    "#lambda is a function, its a one line function\n",
    "#lambda is annonymous - no name to be given\n",
    "\n",
    "#n^2=n*n\n",
    "#n is a parameter\n",
    "#n*n is a expresion or function body\n",
    "pow=lambda n: n*n\n",
    "x=pow (5)\n",
    "print(x)"
   ]
  },
  {
   "cell_type": "code",
   "execution_count": 2,
   "id": "03d43355-447d-4ee5-b9b8-41521472b2d8",
   "metadata": {},
   "outputs": [
    {
     "name": "stdout",
     "output_type": "stream",
     "text": [
      "<class 'function'>\n"
     ]
    }
   ],
   "source": [
    "print(type(pow))"
   ]
  },
  {
   "cell_type": "code",
   "execution_count": 3,
   "id": "c3885306-abf4-44d4-ac33-40024a02f2e5",
   "metadata": {},
   "outputs": [
    {
     "name": "stdout",
     "output_type": "stream",
     "text": [
      "<lambda>\n"
     ]
    }
   ],
   "source": [
    "print(pow.__name__)"
   ]
  },
  {
   "cell_type": "code",
   "execution_count": 4,
   "id": "6537765e-24ea-4151-b4f1-173595bb6bdf",
   "metadata": {},
   "outputs": [
    {
     "name": "stdout",
     "output_type": "stream",
     "text": [
      "30\n"
     ]
    }
   ],
   "source": [
    "add= lambda a,b : a+b\n",
    "print(add(10,20))"
   ]
  },
  {
   "cell_type": "code",
   "execution_count": 5,
   "id": "ea615a47-5004-4b23-b369-c6151c9c8b22",
   "metadata": {},
   "outputs": [
    {
     "name": "stdout",
     "output_type": "stream",
     "text": [
      "25\n"
     ]
    }
   ],
   "source": [
    "#normal function has name\n",
    "def power(n):\n",
    "    return n*n\n",
    "print(power(5))"
   ]
  },
  {
   "cell_type": "code",
   "execution_count": 7,
   "id": "e439b2fe-b417-4ae1-8408-879a3570230f",
   "metadata": {},
   "outputs": [
    {
     "name": "stdout",
     "output_type": "stream",
     "text": [
      "<class 'function'>\n",
      "power\n"
     ]
    }
   ],
   "source": [
    "print (type(power))\n",
    "print(power.__name__)#get name from function"
   ]
  },
  {
   "cell_type": "code",
   "execution_count": null,
   "id": "e3d4031b-0efd-41a4-a2b8-db9f231d8acc",
   "metadata": {},
   "outputs": [],
   "source": []
  }
 ],
 "metadata": {
  "kernelspec": {
   "display_name": "Python 3 (ipykernel)",
   "language": "python",
   "name": "python3"
  },
  "language_info": {
   "codemirror_mode": {
    "name": "ipython",
    "version": 3
   },
   "file_extension": ".py",
   "mimetype": "text/x-python",
   "name": "python",
   "nbconvert_exporter": "python",
   "pygments_lexer": "ipython3",
   "version": "3.7.10"
  }
 },
 "nbformat": 4,
 "nbformat_minor": 5
}
