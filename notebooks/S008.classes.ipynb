{
 "cells": [
  {
   "cell_type": "code",
   "execution_count": 4,
   "id": "cb336922-070f-48cd-b558-2685de3b6b6a",
   "metadata": {},
   "outputs": [
    {
     "name": "stdout",
     "output_type": "stream",
     "text": [
      "100.0\n",
      "100.0\n"
     ]
    }
   ],
   "source": [
    "#class is is a prototype of an object\n",
    "#use claas/ to create an objecct\n",
    "#object is an instace of the class\n",
    "#object attributes\n",
    "#we use clases to create instances\n",
    "\n",
    "\n",
    "class product:\n",
    "    #class body\n",
    "    price=100.0 #attribute\n",
    "    \n",
    "#creating instances\n",
    "p1 = product()\n",
    "p2 = product()\n",
    "\n",
    "print(p1.price)\n",
    "print(p2.price)\n"
   ]
  },
  {
   "cell_type": "code",
   "execution_count": 5,
   "id": "d3c845c8-0707-422d-ae73-3d34ae3b301e",
   "metadata": {},
   "outputs": [
    {
     "name": "stdout",
     "output_type": "stream",
     "text": [
      "90\n"
     ]
    }
   ],
   "source": [
    "p1.price=90\n",
    "p2.price=110\n",
    "\n",
    "print(p1.price)"
   ]
  },
  {
   "cell_type": "code",
   "execution_count": 10,
   "id": "d4641bae-8c21-4362-ae3e-2f09df28e2b1",
   "metadata": {},
   "outputs": [
    {
     "name": "stdout",
     "output_type": "stream",
     "text": [
      "90.0\n"
     ]
    }
   ],
   "source": [
    "#define a class product, price as attribute, discount as another attribute\n",
    "\n",
    "#define function called grand total\n",
    "\n",
    "class product:\n",
    "    price=100\n",
    "    discount=0\n",
    "    total = -1\n",
    "    \n",
    "    #member function\n",
    "#in python This should be passed as parameter instead of This (=self)\n",
    "# self is passed as first argument\n",
    "\n",
    "    def grandtotal(self):\n",
    "        self.total = self.price-(self.price*self.discount)/100\n",
    "        return self.total\n",
    "    \n",
    "    def setDiscount(self, discount):\n",
    "        self.discount = discount\n",
    "        \n",
    "    \n",
    "p1=product()\n",
    "p1.discount=10 #or\n",
    "p1.setDiscount(10)\n",
    "\n",
    "print(p1.grandtotal())\n",
    "\n",
    "\n",
    "\n",
    "\n",
    "        \n",
    "        \n",
    "     \n",
    "    \n",
    "    \n",
    "    "
   ]
  },
  {
   "cell_type": "code",
   "execution_count": 14,
   "id": "5a35d6f3-de4d-42b3-846c-18f4ff700e5d",
   "metadata": {},
   "outputs": [
    {
     "name": "stdout",
     "output_type": "stream",
     "text": [
      "__init__ called\n",
      "__init__ called\n",
      "__str__called\n",
      "product0,0,0\n"
     ]
    }
   ],
   "source": [
    "# initializer __init__ a special python function\n",
    "#compared with constructors in other language\n",
    "#initializer is called automaticaly when we create new objet\n",
    "\n",
    "class product:\n",
    "    def __init__(self):\n",
    "        print(\"__init__ called\")\n",
    "        self.price=0\n",
    "        self.discount=0\n",
    "        self.total=0\n",
    "        \n",
    "    #special function called automaticaly when we want to print\n",
    "    #or apply string concatenation\n",
    "    #or use str(obj)\n",
    "    def __str__(self):\n",
    "        print(\"__str__called\")\n",
    "        return \"product\"+str(self.price)+','+str(self.discount)+','+str(self.total)\n",
    "#create new object\n",
    "# it calls p1.__init__ automaticaly, p1 object passed as self\n",
    "p1=product()\n",
    "#create new obj1\n",
    "p2=product()\n",
    "\n",
    "print(p1)        \n",
    "        \n",
    "\n"
   ]
  },
  {
   "cell_type": "code",
   "execution_count": 15,
   "id": "3bce8ace-f74c-42a8-9460-09ecd58da522",
   "metadata": {},
   "outputs": [
    {
     "name": "stdout",
     "output_type": "stream",
     "text": [
      "__init__ called\n",
      "__init__ called\n",
      "__init__ called\n",
      "__str__called\n",
      "product100,5,0\n",
      "__str__called\n",
      "product200,8,0\n",
      "__str__called\n",
      "product0,0,0\n"
     ]
    }
   ],
   "source": [
    "#initialize with seed value\n",
    "#other lang constructor values\n",
    "\n",
    "class product:\n",
    "    def __init__(self, price=0, discount=0):\n",
    "        print(\"__init__ called\")\n",
    "        self.price=price\n",
    "        self.discount=discount\n",
    "        self.total=0\n",
    "        \n",
    "    #special function called automaticaly when we want to print\n",
    "    #or apply string concatenation\n",
    "    #or use str(obj)\n",
    "    def __str__(self):\n",
    "        print(\"__str__called\")\n",
    "        return \"product\"+str(self.price)+','+str(self.discount)+','+str(self.total)\n",
    "   \n",
    "# initialize obj with seed value\n",
    "p1=product(100,5)\n",
    "p2=product(200,8)\n",
    "p3=product()\n",
    "\n",
    "print(p1)\n",
    "print(p2)\n",
    "print(p3)\n"
   ]
  },
  {
   "cell_type": "code",
   "execution_count": null,
   "id": "61f22901-ac75-49d4-bf16-503aff080a22",
   "metadata": {},
   "outputs": [],
   "source": []
  }
 ],
 "metadata": {
  "kernelspec": {
   "display_name": "Python 3 (ipykernel)",
   "language": "python",
   "name": "python3"
  },
  "language_info": {
   "codemirror_mode": {
    "name": "ipython",
    "version": 3
   },
   "file_extension": ".py",
   "mimetype": "text/x-python",
   "name": "python",
   "nbconvert_exporter": "python",
   "pygments_lexer": "ipython3",
   "version": "3.7.10"
  }
 },
 "nbformat": 4,
 "nbformat_minor": 5
}
