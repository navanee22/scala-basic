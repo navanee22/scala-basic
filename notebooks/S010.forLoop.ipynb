{
 "cells": [
  {
   "cell_type": "code",
   "execution_count": 1,
   "id": "9d494a8d-0bf4-4f6d-a60e-bbd629770c8a",
   "metadata": {},
   "outputs": [
    {
     "name": "stdout",
     "output_type": "stream",
     "text": [
      "FB\n",
      "APPL\n",
      "EMR\n",
      "TSLA\n"
     ]
    }
   ],
   "source": [
    "stocks=['FB','APPL','EMR','TSLA']\n",
    "\n",
    "for stock in stocks:\n",
    "    print(stock)"
   ]
  },
  {
   "cell_type": "code",
   "execution_count": 2,
   "id": "50268773-fd26-4782-82a7-4731cf6fa306",
   "metadata": {},
   "outputs": [
    {
     "name": "stdout",
     "output_type": "stream",
     "text": [
      "FB\n",
      "APPL\n",
      "EMR\n",
      "TSLA\n",
      "done processing stock\n"
     ]
    }
   ],
   "source": [
    "#For loop with else part\n",
    "for stock in stocks:\n",
    "    print(stock)\n",
    "else:\n",
    "    print('done processing stock')\n"
   ]
  },
  {
   "cell_type": "code",
   "execution_count": 3,
   "id": "a389125c-d547-444b-815e-2b326391ba1d",
   "metadata": {},
   "outputs": [
    {
     "name": "stdout",
     "output_type": "stream",
     "text": [
      "FB\n",
      "APPL\n",
      "TSLA\n",
      "done processing stock\n"
     ]
    }
   ],
   "source": [
    "#continue\n",
    "for stock in stocks:\n",
    "    if stock == 'EMR':\n",
    "        continue #it will skip EMR\n",
    "    print(stock)\n",
    "else:\n",
    "    print('done processing stock')\n",
    "#break means it will come out of the loop    \n",
    "\n"
   ]
  },
  {
   "cell_type": "code",
   "execution_count": null,
   "id": "d4b21a51-10b1-4d62-89c4-d67d93f82bbc",
   "metadata": {},
   "outputs": [],
   "source": [
    "#raise exception in for lopp\n",
    "for stock in stocks:\n",
    "    if stock == 'EMR':\n",
    "        raise Exception('unknown stock' + stock)#came out of loop\n",
    "    print(stock)\n",
    "else:\n",
    "    print('done processing stock')\n"
   ]
  }
 ],
 "metadata": {
  "kernelspec": {
   "display_name": "Python 3 (ipykernel)",
   "language": "python",
   "name": "python3"
  },
  "language_info": {
   "codemirror_mode": {
    "name": "ipython",
    "version": 3
   },
   "file_extension": ".py",
   "mimetype": "text/x-python",
   "name": "python",
   "nbconvert_exporter": "python",
   "pygments_lexer": "ipython3",
   "version": "3.7.10"
  }
 },
 "nbformat": 4,
 "nbformat_minor": 5
}
