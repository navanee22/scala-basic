{
 "cells": [
  {
   "cell_type": "code",
   "execution_count": 4,
   "id": "d181b579-ed72-4d5e-ab2e-3755c0728b6c",
   "metadata": {},
   "outputs": [
    {
     "name": "stdout",
     "output_type": "stream",
     "text": [
      "exception captured\n",
      "this will be shown\n"
     ]
    }
   ],
   "source": [
    "#Exeption Handling\n",
    "#Exception care errors,that may cause the program to terminate abnormaly\n",
    "#try, except,else,finaly\n",
    "\n",
    "try:\n",
    "    42/0\n",
    "    print(\"this will not be shown\")\n",
    "except:\n",
    "    print(\"exception captured\")\n",
    "print(\"this will be shown\")    "
   ]
  },
  {
   "cell_type": "code",
   "execution_count": 6,
   "id": "ae01c84c-e9ab-42ac-8b93-aba967f201d4",
   "metadata": {},
   "outputs": [
    {
     "name": "stdout",
     "output_type": "stream",
     "text": [
      "this will be shown 21.0\n"
     ]
    }
   ],
   "source": [
    "try:\n",
    "    n=42/2 #no exception means except wont be called\n",
    "    print(\"this will be shown\",n)\n",
    "except:\n",
    "    print(\"this wont be shown\")"
   ]
  },
  {
   "cell_type": "code",
   "execution_count": 7,
   "id": "401c8890-be11-4f28-8507-43a99d4ffb21",
   "metadata": {},
   "outputs": [
    {
     "name": "stdout",
     "output_type": "stream",
     "text": [
      "looks like variabe not defined\n"
     ]
    }
   ],
   "source": [
    "#handle specific exception\n",
    "\n",
    "try:\n",
    "    42/x #x is not defined\n",
    "    #42/0  #raise ZeroDivisionError\n",
    "except ZeroDivisionError:\n",
    "    print(\"you cannot div no by zero\")\n",
    "except NameError:\n",
    "    print(\"looks like variabe not defined\")"
   ]
  },
  {
   "cell_type": "code",
   "execution_count": 1,
   "id": "869fcb48-e07f-4f37-83af-6ca1cac5763a",
   "metadata": {},
   "outputs": [
    {
     "name": "stdout",
     "output_type": "stream",
     "text": [
      "exception caused\n",
      "at finally , cleanup\n"
     ]
    }
   ],
   "source": [
    "# finally is a block will be called on error, no error scenario\n",
    "# finally to close /release resources\n",
    "\n",
    "try:\n",
    "    42 / 0 # except shall be called, finally will be called\n",
    "   #42 / 2 # no exception, finally will be called\n",
    "except:\n",
    "    print('exception caused')\n",
    "finally:\n",
    "    print('at finally , cleanup')"
   ]
  },
  {
   "cell_type": "code",
   "execution_count": null,
   "id": "50658ad9-eac7-4ee1-8b43-7aa0a39b03ff",
   "metadata": {},
   "outputs": [],
   "source": []
  }
 ],
 "metadata": {
  "kernelspec": {
   "display_name": "Python 3 (ipykernel)",
   "language": "python",
   "name": "python3"
  },
  "language_info": {
   "codemirror_mode": {
    "name": "ipython",
    "version": 3
   },
   "file_extension": ".py",
   "mimetype": "text/x-python",
   "name": "python",
   "nbconvert_exporter": "python",
   "pygments_lexer": "ipython3",
   "version": "3.7.10"
  }
 },
 "nbformat": 4,
 "nbformat_minor": 5
}
