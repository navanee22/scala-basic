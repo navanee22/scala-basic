{
 "cells": [
  {
   "cell_type": "code",
   "execution_count": 1,
   "id": "e92a2189-bf58-41b8-883d-f14e0ef7371a",
   "metadata": {},
   "outputs": [
    {
     "name": "stdout",
     "output_type": "stream",
     "text": [
      "Learning Python\n",
      "\n",
      "with jupyter\n",
      "\n"
     ]
    }
   ],
   "source": [
    "f= open(\"README.md\",\"r\")\n",
    "line=f.readline()\n",
    "print(line)\n",
    "line=f.readline()\n",
    "print(line)"
   ]
  },
  {
   "cell_type": "code",
   "execution_count": 4,
   "id": "240f83f6-bbdc-4369-8382-810b95e32e6e",
   "metadata": {},
   "outputs": [
    {
     "name": "stdout",
     "output_type": "stream",
     "text": [
      "Learning Python\n",
      "\n",
      "with jupyter\n",
      "\n",
      "on windows\n"
     ]
    }
   ],
   "source": [
    "f=open(\"README.md\",\"r\")\n",
    "for line in f:\n",
    "    print(line)"
   ]
  },
  {
   "cell_type": "code",
   "execution_count": null,
   "id": "4f3bd7bd-58e4-4ad9-ba73-fcd824e7e7ca",
   "metadata": {},
   "outputs": [],
   "source": []
  }
 ],
 "metadata": {
  "kernelspec": {
   "display_name": "Python 3 (ipykernel)",
   "language": "python",
   "name": "python3"
  },
  "language_info": {
   "codemirror_mode": {
    "name": "ipython",
    "version": 3
   },
   "file_extension": ".py",
   "mimetype": "text/x-python",
   "name": "python",
   "nbconvert_exporter": "python",
   "pygments_lexer": "ipython3",
   "version": "3.7.10"
  }
 },
 "nbformat": 4,
 "nbformat_minor": 5
}
